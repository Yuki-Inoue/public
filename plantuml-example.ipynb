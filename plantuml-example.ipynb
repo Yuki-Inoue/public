{
 "cells": [
  {
   "cell_type": "code",
   "execution_count": 1,
   "metadata": {},
   "outputs": [],
   "source": [
    "import iplantuml"
   ]
  },
  {
   "cell_type": "code",
   "execution_count": 2,
   "metadata": {},
   "outputs": [
    {
     "data": {
      "image/svg+xml": [
       "<svg contentScriptType=\"application/ecmascript\" contentStyleType=\"text/css\" height=\"126px\" preserveAspectRatio=\"none\" style=\"width:196px;height:126px;\" version=\"1.1\" viewBox=\"0 0 196 126\" width=\"196px\" xmlns=\"http://www.w3.org/2000/svg\" xmlns:xlink=\"http://www.w3.org/1999/xlink\" zoomAndPan=\"magnify\"><defs><filter height=\"300%\" id=\"fpmnxcl3wnef2\" width=\"300%\" x=\"-1\" y=\"-1\"><feGaussianBlur result=\"blurOut\" stdDeviation=\"2.0\"/><feColorMatrix in=\"blurOut\" result=\"blurOut2\" type=\"matrix\" values=\"0 0 0 0 0 0 0 0 0 0 0 0 0 0 0 0 0 0 .4 0\"/><feOffset dx=\"4.0\" dy=\"4.0\" in=\"blurOut2\" result=\"blurOut3\"/><feBlend in=\"SourceGraphic\" in2=\"blurOut3\" mode=\"normal\"/></filter></defs><g><line style=\"stroke: #A80036; stroke-width: 1.0; stroke-dasharray: 5.0,5.0;\" x1=\"33\" x2=\"33\" y1=\"38.2969\" y2=\"86.2969\"/><line style=\"stroke: #A80036; stroke-width: 1.0; stroke-dasharray: 5.0,5.0;\" x1=\"91\" x2=\"91\" y1=\"38.2969\" y2=\"86.2969\"/><line style=\"stroke: #A80036; stroke-width: 1.0; stroke-dasharray: 5.0,5.0;\" x1=\"156\" x2=\"156\" y1=\"38.2969\" y2=\"86.2969\"/><rect fill=\"#FEFECE\" filter=\"url(#fpmnxcl3wnef2)\" height=\"30.2969\" style=\"stroke: #A80036; stroke-width: 1.5;\" width=\"46\" x=\"8\" y=\"3\"/><text fill=\"#000000\" font-family=\"sans-serif\" font-size=\"14\" lengthAdjust=\"spacingAndGlyphs\" textLength=\"32\" x=\"15\" y=\"22.9951\">Alice</text><rect fill=\"#FEFECE\" filter=\"url(#fpmnxcl3wnef2)\" height=\"30.2969\" style=\"stroke: #A80036; stroke-width: 1.5;\" width=\"46\" x=\"8\" y=\"85.2969\"/><text fill=\"#000000\" font-family=\"sans-serif\" font-size=\"14\" lengthAdjust=\"spacingAndGlyphs\" textLength=\"32\" x=\"15\" y=\"105.292\">Alice</text><rect fill=\"#FEFECE\" filter=\"url(#fpmnxcl3wnef2)\" height=\"30.2969\" style=\"stroke: #A80036; stroke-width: 1.5;\" width=\"42\" x=\"68\" y=\"3\"/><text fill=\"#000000\" font-family=\"sans-serif\" font-size=\"14\" lengthAdjust=\"spacingAndGlyphs\" textLength=\"28\" x=\"75\" y=\"22.9951\">Bob</text><rect fill=\"#FEFECE\" filter=\"url(#fpmnxcl3wnef2)\" height=\"30.2969\" style=\"stroke: #A80036; stroke-width: 1.5;\" width=\"42\" x=\"68\" y=\"85.2969\"/><text fill=\"#000000\" font-family=\"sans-serif\" font-size=\"14\" lengthAdjust=\"spacingAndGlyphs\" textLength=\"28\" x=\"75\" y=\"105.292\">Bob</text><rect fill=\"#FEFECE\" filter=\"url(#fpmnxcl3wnef2)\" height=\"30.2969\" style=\"stroke: #A80036; stroke-width: 1.5;\" width=\"61\" x=\"124\" y=\"3\"/><text fill=\"#000000\" font-family=\"sans-serif\" font-size=\"14\" lengthAdjust=\"spacingAndGlyphs\" textLength=\"47\" x=\"131\" y=\"22.9951\">Charlie</text><rect fill=\"#FEFECE\" filter=\"url(#fpmnxcl3wnef2)\" height=\"30.2969\" style=\"stroke: #A80036; stroke-width: 1.5;\" width=\"61\" x=\"124\" y=\"85.2969\"/><text fill=\"#000000\" font-family=\"sans-serif\" font-size=\"14\" lengthAdjust=\"spacingAndGlyphs\" textLength=\"47\" x=\"131\" y=\"105.292\">Charlie</text><polygon fill=\"#A80036\" points=\"79,50.2969,89,54.2969,79,58.2969,83,54.2969\" style=\"stroke: #A80036; stroke-width: 1.0;\"/><line style=\"stroke: #A80036; stroke-width: 1.0;\" x1=\"33\" x2=\"85\" y1=\"54.2969\" y2=\"54.2969\"/><polygon fill=\"#A80036\" points=\"144.5,64.2969,154.5,68.2969,144.5,72.2969,148.5,68.2969\" style=\"stroke: #A80036; stroke-width: 1.0;\"/><line style=\"stroke: #A80036; stroke-width: 1.0;\" x1=\"91\" x2=\"150.5\" y1=\"68.2969\" y2=\"68.2969\"/><!--MD5=[631c43adbc2b997836ba58df21df6940]\n",
       "@startuml\n",
       "Alice -> Bob\n",
       "Bob -> Charlie\n",
       "@enduml\n",
       "\n",
       "PlantUML version 1.2019.12(Sun Nov 03 10:24:54 UTC 2019)\n",
       "(GPL source distribution)\n",
       "Java Runtime: Java(TM) SE Runtime Environment\n",
       "JVM: Java HotSpot(TM) 64-Bit Server VM\n",
       "Java Version: 1.7.0_25-b15\n",
       "Operating System: Linux\n",
       "Default Encoding: UTF-8\n",
       "Language: en\n",
       "Country: US\n",
       "--></g></svg>"
      ],
      "text/plain": [
       "<IPython.core.display.SVG object>"
      ]
     },
     "execution_count": 2,
     "metadata": {},
     "output_type": "execute_result"
    }
   ],
   "source": [
    "%%plantuml\n",
    "\n",
    "Alice -> Bob\n",
    "Bob -> Charlie"
   ]
  },
  {
   "cell_type": "code",
   "execution_count": 3,
   "metadata": {},
   "outputs": [
    {
     "data": {
      "image/svg+xml": [
       "<svg contentScriptType=\"application/ecmascript\" contentStyleType=\"text/css\" height=\"175px\" preserveAspectRatio=\"none\" style=\"width:162px;height:175px;\" version=\"1.1\" viewBox=\"0 0 162 175\" width=\"162px\" xmlns=\"http://www.w3.org/2000/svg\" xmlns:xlink=\"http://www.w3.org/1999/xlink\" zoomAndPan=\"magnify\"><defs><filter height=\"300%\" id=\"f1i2gkycsnxzle\" width=\"300%\" x=\"-1\" y=\"-1\"><feGaussianBlur result=\"blurOut\" stdDeviation=\"2.0\"/><feColorMatrix in=\"blurOut\" result=\"blurOut2\" type=\"matrix\" values=\"0 0 0 0 0 0 0 0 0 0 0 0 0 0 0 0 0 0 .4 0\"/><feOffset dx=\"4.0\" dy=\"4.0\" in=\"blurOut2\" result=\"blurOut3\"/><feBlend in=\"SourceGraphic\" in2=\"blurOut3\" mode=\"normal\"/></filter></defs><g><!--MD5=[7fd4401f5c5cb0e3d029c879cad30c04]\n",
       "class Animal--><rect fill=\"#FEFECE\" filter=\"url(#f1i2gkycsnxzle)\" height=\"48\" id=\"Animal\" style=\"stroke: #A80036; stroke-width: 1.5;\" width=\"73\" x=\"43\" y=\"8\"/><ellipse cx=\"58\" cy=\"24\" fill=\"#ADD1B2\" rx=\"11\" ry=\"11\" style=\"stroke: #A80036; stroke-width: 1.0;\"/><path d=\"M60.3438,19.6719 L60.5156,19.75 C60.7344,19.4375 60.9375,19.3438 61.2344,19.3438 C61.5313,19.3438 61.8125,19.4844 61.9688,19.75 C62.0625,19.9063 62.0781,20.0313 62.0781,20.4688 L62.0781,21.8906 C62.0781,22.3125 62.0469,22.5 61.9375,22.6563 C61.7656,22.875 61.5,23.0156 61.2344,23.0156 C61.0156,23.0156 60.7813,22.9063 60.6406,22.7656 C60.5,22.6406 60.4688,22.5156 60.4063,22.1094 C60.3125,21.7031 60.1406,21.4844 59.6563,21.2031 C59.1875,20.9531 58.5781,20.7969 58,20.7969 C56.2656,20.7969 55.0156,22.1094 55.0156,23.8906 L55.0156,24.9844 C55.0156,26.6875 56.3125,27.7813 58.3594,27.7813 C59.125,27.7813 59.8125,27.6563 60.2344,27.3906 C60.4219,27.2969 60.4219,27.2969 60.875,26.8125 C61.0625,26.625 61.2656,26.5469 61.4844,26.5469 C61.9531,26.5469 62.3438,26.9375 62.3438,27.3906 C62.3438,27.7813 62.0156,28.2344 61.4375,28.6406 C60.6875,29.1875 59.5313,29.4844 58.3125,29.4844 C55.4219,29.4844 53.3125,27.5938 53.3125,25.0156 L53.3125,23.8906 C53.3125,21.1719 55.3125,19.0938 57.9375,19.0938 C58.8125,19.0938 59.4063,19.2344 60.3438,19.6719 Z \"/><text fill=\"#000000\" font-family=\"sans-serif\" font-size=\"12\" lengthAdjust=\"spacingAndGlyphs\" textLength=\"41\" x=\"72\" y=\"28.1543\">Animal</text><line style=\"stroke: #A80036; stroke-width: 1.5;\" x1=\"44\" x2=\"115\" y1=\"40\" y2=\"40\"/><line style=\"stroke: #A80036; stroke-width: 1.5;\" x1=\"44\" x2=\"115\" y1=\"48\" y2=\"48\"/><!--MD5=[454ed48f055567edc734f170f61b4daf]\n",
       "class Dog--><rect fill=\"#FEFECE\" filter=\"url(#f1i2gkycsnxzle)\" height=\"48\" id=\"Dog\" style=\"stroke: #A80036; stroke-width: 1.5;\" width=\"57\" x=\"6\" y=\"116\"/><ellipse cx=\"21\" cy=\"132\" fill=\"#ADD1B2\" rx=\"11\" ry=\"11\" style=\"stroke: #A80036; stroke-width: 1.0;\"/><path d=\"M23.3438,127.6719 L23.5156,127.75 C23.7344,127.4375 23.9375,127.3438 24.2344,127.3438 C24.5313,127.3438 24.8125,127.4844 24.9688,127.75 C25.0625,127.9063 25.0781,128.0313 25.0781,128.4688 L25.0781,129.8906 C25.0781,130.3125 25.0469,130.5 24.9375,130.6563 C24.7656,130.875 24.5,131.0156 24.2344,131.0156 C24.0156,131.0156 23.7813,130.9063 23.6406,130.7656 C23.5,130.6406 23.4688,130.5156 23.4063,130.1094 C23.3125,129.7031 23.1406,129.4844 22.6563,129.2031 C22.1875,128.9531 21.5781,128.7969 21,128.7969 C19.2656,128.7969 18.0156,130.1094 18.0156,131.8906 L18.0156,132.9844 C18.0156,134.6875 19.3125,135.7813 21.3594,135.7813 C22.125,135.7813 22.8125,135.6563 23.2344,135.3906 C23.4219,135.2969 23.4219,135.2969 23.875,134.8125 C24.0625,134.625 24.2656,134.5469 24.4844,134.5469 C24.9531,134.5469 25.3438,134.9375 25.3438,135.3906 C25.3438,135.7813 25.0156,136.2344 24.4375,136.6406 C23.6875,137.1875 22.5313,137.4844 21.3125,137.4844 C18.4219,137.4844 16.3125,135.5938 16.3125,133.0156 L16.3125,131.8906 C16.3125,129.1719 18.3125,127.0938 20.9375,127.0938 C21.8125,127.0938 22.4063,127.2344 23.3438,127.6719 Z \"/><text fill=\"#000000\" font-family=\"sans-serif\" font-size=\"12\" lengthAdjust=\"spacingAndGlyphs\" textLength=\"25\" x=\"35\" y=\"136.1543\">Dog</text><line style=\"stroke: #A80036; stroke-width: 1.5;\" x1=\"7\" x2=\"62\" y1=\"148\" y2=\"148\"/><line style=\"stroke: #A80036; stroke-width: 1.5;\" x1=\"7\" x2=\"62\" y1=\"156\" y2=\"156\"/><!--MD5=[8d10b9619f233caeee54837354dd5717]\n",
       "class Cat--><rect fill=\"#FEFECE\" filter=\"url(#f1i2gkycsnxzle)\" height=\"48\" id=\"Cat\" style=\"stroke: #A80036; stroke-width: 1.5;\" width=\"53\" x=\"98\" y=\"116\"/><ellipse cx=\"113\" cy=\"132\" fill=\"#ADD1B2\" rx=\"11\" ry=\"11\" style=\"stroke: #A80036; stroke-width: 1.0;\"/><path d=\"M115.3438,127.6719 L115.5156,127.75 C115.7344,127.4375 115.9375,127.3438 116.2344,127.3438 C116.5313,127.3438 116.8125,127.4844 116.9688,127.75 C117.0625,127.9063 117.0781,128.0313 117.0781,128.4688 L117.0781,129.8906 C117.0781,130.3125 117.0469,130.5 116.9375,130.6563 C116.7656,130.875 116.5,131.0156 116.2344,131.0156 C116.0156,131.0156 115.7813,130.9063 115.6406,130.7656 C115.5,130.6406 115.4688,130.5156 115.4063,130.1094 C115.3125,129.7031 115.1406,129.4844 114.6563,129.2031 C114.1875,128.9531 113.5781,128.7969 113,128.7969 C111.2656,128.7969 110.0156,130.1094 110.0156,131.8906 L110.0156,132.9844 C110.0156,134.6875 111.3125,135.7813 113.3594,135.7813 C114.125,135.7813 114.8125,135.6563 115.2344,135.3906 C115.4219,135.2969 115.4219,135.2969 115.875,134.8125 C116.0625,134.625 116.2656,134.5469 116.4844,134.5469 C116.9531,134.5469 117.3438,134.9375 117.3438,135.3906 C117.3438,135.7813 117.0156,136.2344 116.4375,136.6406 C115.6875,137.1875 114.5313,137.4844 113.3125,137.4844 C110.4219,137.4844 108.3125,135.5938 108.3125,133.0156 L108.3125,131.8906 C108.3125,129.1719 110.3125,127.0938 112.9375,127.0938 C113.8125,127.0938 114.4063,127.2344 115.3438,127.6719 Z \"/><text fill=\"#000000\" font-family=\"sans-serif\" font-size=\"12\" lengthAdjust=\"spacingAndGlyphs\" textLength=\"21\" x=\"127\" y=\"136.1543\">Cat</text><line style=\"stroke: #A80036; stroke-width: 1.5;\" x1=\"99\" x2=\"150\" y1=\"148\" y2=\"148\"/><line style=\"stroke: #A80036; stroke-width: 1.5;\" x1=\"99\" x2=\"150\" y1=\"156\" y2=\"156\"/><!--MD5=[5037e5108ae860e34ac250b7d2b84c09]\n",
       "reverse link Animal to Dog--><path d=\"M61.8503,74.5748 C55.9205,88.5428 49.5188,103.6224 44.4007,115.6784 \" fill=\"none\" id=\"Animal&lt;-Dog\" style=\"stroke: #A80036; stroke-width: 1.0;\"/><polygon fill=\"none\" points=\"55.4767,71.6747,69.7357,56,68.3636,77.1456,55.4767,71.6747\" style=\"stroke: #A80036; stroke-width: 1.0;\"/><!--MD5=[29afdbb58cca2b953b6b88505d3bed3f]\n",
       "reverse link Animal to Cat--><path d=\"M97.1497,74.5748 C103.0795,88.5428 109.481,103.6224 114.599,115.6784 \" fill=\"none\" id=\"Animal&lt;-Cat\" style=\"stroke: #A80036; stroke-width: 1.0;\"/><polygon fill=\"none\" points=\"90.6364,77.1456,89.2643,56,103.5233,71.6747,90.6364,77.1456\" style=\"stroke: #A80036; stroke-width: 1.0;\"/><!--MD5=[4154139689731b8d6990dc582c4761b5]\n",
       "@startuml\n",
       "Animal <|- - Dog\n",
       "Animal <|- - Cat\n",
       "@enduml\n",
       "\n",
       "PlantUML version 1.2019.12(Sun Nov 03 10:24:54 UTC 2019)\n",
       "(GPL source distribution)\n",
       "Java Runtime: Java(TM) SE Runtime Environment\n",
       "JVM: Java HotSpot(TM) 64-Bit Server VM\n",
       "Java Version: 1.7.0_25-b15\n",
       "Operating System: Linux\n",
       "Default Encoding: UTF-8\n",
       "Language: en\n",
       "Country: US\n",
       "--></g></svg>"
      ],
      "text/plain": [
       "<IPython.core.display.SVG object>"
      ]
     },
     "execution_count": 3,
     "metadata": {},
     "output_type": "execute_result"
    }
   ],
   "source": [
    "%%plantuml\n",
    "\n",
    "Animal <|-- Dog\n",
    "Animal <|-- Cat"
   ]
  }
 ],
 "metadata": {
  "kernelspec": {
   "display_name": "Python 3",
   "language": "python",
   "name": "python3"
  },
  "language_info": {
   "codemirror_mode": {
    "name": "ipython",
    "version": 3
   },
   "file_extension": ".py",
   "mimetype": "text/x-python",
   "name": "python",
   "nbconvert_exporter": "python",
   "pygments_lexer": "ipython3",
   "version": "3.7.4"
  }
 },
 "nbformat": 4,
 "nbformat_minor": 2
}
